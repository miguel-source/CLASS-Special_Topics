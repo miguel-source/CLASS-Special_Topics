{
  "cells": [
    {
      "cell_type": "code",
      "source": [
        "### Class Exercise Miguel Diaz __ Act 3"
      ],
      "metadata": {
        "id": "stDNqGcFM80D"
      },
      "execution_count": null,
      "outputs": []
    },
    {
      "cell_type": "code",
      "source": [
        "print('Hello Colab!')"
      ],
      "metadata": {
        "colab": {
          "base_uri": "https://localhost:8080/"
        },
        "id": "LF6H-GD1M8k7",
        "outputId": "8ac08e19-75a7-42c2-9079-05d90f20a50a"
      },
      "execution_count": null,
      "outputs": [
        {
          "output_type": "stream",
          "name": "stdout",
          "text": [
            "Hello Colab!\n"
          ]
        }
      ]
    },
    {
      "cell_type": "code",
      "source": [],
      "metadata": {
        "id": "vFBN8DqhNL9V"
      },
      "execution_count": null,
      "outputs": []
    }
  ],
  "metadata": {
    "colab": {
      "provenance": []
    },
    "kernelspec": {
      "display_name": "Python 3",
      "name": "python3"
    }
  },
  "nbformat": 4,
  "nbformat_minor": 0
}