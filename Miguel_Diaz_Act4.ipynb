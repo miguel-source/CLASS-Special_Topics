{
  "nbformat": 4,
  "nbformat_minor": 0,
  "metadata": {
    "colab": {
      "provenance": []
    },
    "kernelspec": {
      "name": "python3",
      "display_name": "Python 3"
    },
    "language_info": {
      "name": "python"
    }
  },
  "cells": [
    {
      "cell_type": "code",
      "execution_count": 1,
      "metadata": {
        "colab": {
          "base_uri": "https://localhost:8080/"
        },
        "id": "EGUCMV2LQGox",
        "outputId": "b5623c51-1bc9-4780-9e9a-6cbaa3700961"
      },
      "outputs": [
        {
          "output_type": "stream",
          "name": "stdout",
          "text": [
            "/content\n"
          ]
        }
      ],
      "source": [
        "!pwd"
      ]
    },
    {
      "cell_type": "code",
      "source": [
        "ls  -la"
      ],
      "metadata": {
        "colab": {
          "base_uri": "https://localhost:8080/"
        },
        "id": "iRtBwTV8QLdU",
        "outputId": "eb2a749f-22bd-4ded-c7e9-09e94cd5f3f1"
      },
      "execution_count": 2,
      "outputs": [
        {
          "output_type": "stream",
          "name": "stdout",
          "text": [
            "total 16\n",
            "drwxr-xr-x 1 root root 4096 Sep  3 13:24 \u001b[0m\u001b[01;34m.\u001b[0m/\n",
            "drwxr-xr-x 1 root root 4096 Sep  4 22:55 \u001b[01;34m..\u001b[0m/\n",
            "drwxr-xr-x 4 root root 4096 Sep  3 13:24 \u001b[01;34m.config\u001b[0m/\n",
            "drwxr-xr-x 1 root root 4096 Sep  3 13:24 \u001b[01;34msample_data\u001b[0m/\n"
          ]
        }
      ]
    },
    {
      "cell_type": "code",
      "source": [
        "ls"
      ],
      "metadata": {
        "colab": {
          "base_uri": "https://localhost:8080/"
        },
        "id": "v7qVVCdqQPtw",
        "outputId": "dd6275ce-e5e7-4990-a1bf-50eedbc96f94"
      },
      "execution_count": 3,
      "outputs": [
        {
          "output_type": "stream",
          "name": "stdout",
          "text": [
            "\u001b[0m\u001b[01;34msample_data\u001b[0m/\n"
          ]
        }
      ]
    },
    {
      "cell_type": "code",
      "source": [
        "ls -lh"
      ],
      "metadata": {
        "colab": {
          "base_uri": "https://localhost:8080/"
        },
        "id": "2Zx6Zy92QROj",
        "outputId": "539187f3-a7d2-453f-e320-941c86105816"
      },
      "execution_count": 4,
      "outputs": [
        {
          "output_type": "stream",
          "name": "stdout",
          "text": [
            "total 4.0K\n",
            "drwxr-xr-x 1 root root 4.0K Sep  3 13:24 \u001b[0m\u001b[01;34msample_data\u001b[0m/\n"
          ]
        }
      ]
    },
    {
      "cell_type": "code",
      "source": [
        "mkdir Activity4"
      ],
      "metadata": {
        "id": "POtFjeTQQSx4"
      },
      "execution_count": 5,
      "outputs": []
    },
    {
      "cell_type": "code",
      "source": [
        "ls\n"
      ],
      "metadata": {
        "colab": {
          "base_uri": "https://localhost:8080/"
        },
        "id": "GXuku1y2QfZ2",
        "outputId": "bfa24238-b8d9-4ad8-f1c6-ddb373a0bb58"
      },
      "execution_count": 6,
      "outputs": [
        {
          "output_type": "stream",
          "name": "stdout",
          "text": [
            "\u001b[0m\u001b[01;34mActivity4\u001b[0m/  \u001b[01;34msample_data\u001b[0m/\n"
          ]
        }
      ]
    },
    {
      "cell_type": "code",
      "source": [
        "cd Activity4/"
      ],
      "metadata": {
        "colab": {
          "base_uri": "https://localhost:8080/"
        },
        "id": "cCQJ8DQzQggw",
        "outputId": "2a9c6011-e041-4ac1-eeca-fd964c12b18a"
      },
      "execution_count": 7,
      "outputs": [
        {
          "output_type": "stream",
          "name": "stdout",
          "text": [
            "/content/Activity4\n"
          ]
        }
      ]
    },
    {
      "cell_type": "code",
      "source": [
        "ls -lh"
      ],
      "metadata": {
        "colab": {
          "base_uri": "https://localhost:8080/"
        },
        "id": "Vktgwg0VQiTk",
        "outputId": "760f015f-927c-485e-c8b4-fc1be2340723"
      },
      "execution_count": 8,
      "outputs": [
        {
          "output_type": "stream",
          "name": "stdout",
          "text": [
            "total 0\n"
          ]
        }
      ]
    },
    {
      "cell_type": "code",
      "source": [
        "!echo 'Hello, world'"
      ],
      "metadata": {
        "colab": {
          "base_uri": "https://localhost:8080/"
        },
        "id": "hW1E239TQjZL",
        "outputId": "ed0712af-4743-4e4c-df16-80e17e791d00"
      },
      "execution_count": 11,
      "outputs": [
        {
          "output_type": "stream",
          "name": "stdout",
          "text": [
            "Hello, world\n"
          ]
        }
      ]
    },
    {
      "cell_type": "code",
      "source": [
        "# prompt: create a new file inside this directory /content/Activity4\n",
        "\n",
        "!touch Activity-4.txt\n"
      ],
      "metadata": {
        "id": "1x8u-f8_QkOv"
      },
      "execution_count": 14,
      "outputs": []
    },
    {
      "cell_type": "code",
      "source": [
        "ls"
      ],
      "metadata": {
        "colab": {
          "base_uri": "https://localhost:8080/"
        },
        "id": "DX88lvKgRm3x",
        "outputId": "6de2373e-d1cb-44ba-d4fe-1e7441e50e3e"
      },
      "execution_count": 15,
      "outputs": [
        {
          "output_type": "stream",
          "name": "stdout",
          "text": [
            "Activity-4.txt\n"
          ]
        }
      ]
    },
    {
      "cell_type": "code",
      "source": [
        "# prompt: Create 5 text files with one setence each one. Concatenate all in one and create a sixth file\n",
        "\n",
        "# Create 5 text files with one sentence each\n",
        "!echo \"I love.\" > file1.txt\n",
        "!echo \"programming.\" > file2.txt\n",
        "!echo \"because.\" > file3.txt\n",
        "!echo \"make life.\" > file4.txt\n",
        "!echo \"easier.\" > file5.txt\n",
        "\n",
        "# Concatenate all files into one\n",
        "!cat file1.txt file2.txt file3.txt file4.txt file5.txt > file6.txt\n"
      ],
      "metadata": {
        "id": "iU053L7LSDzV"
      },
      "execution_count": 16,
      "outputs": []
    },
    {
      "cell_type": "code",
      "source": [
        "ls"
      ],
      "metadata": {
        "colab": {
          "base_uri": "https://localhost:8080/"
        },
        "id": "BLJ9di0qSg4H",
        "outputId": "9fd68c84-54ac-477a-8b73-7b0c9156e234"
      },
      "execution_count": 17,
      "outputs": [
        {
          "output_type": "stream",
          "name": "stdout",
          "text": [
            "Activity-4.txt  file1.txt  file2.txt  file3.txt  file4.txt  file5.txt  file6.txt\n"
          ]
        }
      ]
    },
    {
      "cell_type": "code",
      "source": [
        "ls -lh"
      ],
      "metadata": {
        "colab": {
          "base_uri": "https://localhost:8080/"
        },
        "id": "RUjGUO5HSinH",
        "outputId": "20736b1d-6b46-4f73-9ec0-d721ca21e797"
      },
      "execution_count": 18,
      "outputs": [
        {
          "output_type": "stream",
          "name": "stdout",
          "text": [
            "total 24K\n",
            "-rw-r--r-- 1 root root  0 Sep  4 23:04 Activity-4.txt\n",
            "-rw-r--r-- 1 root root  8 Sep  4 23:06 file1.txt\n",
            "-rw-r--r-- 1 root root 13 Sep  4 23:06 file2.txt\n",
            "-rw-r--r-- 1 root root  9 Sep  4 23:06 file3.txt\n",
            "-rw-r--r-- 1 root root 11 Sep  4 23:06 file4.txt\n",
            "-rw-r--r-- 1 root root  8 Sep  4 23:06 file5.txt\n",
            "-rw-r--r-- 1 root root 49 Sep  4 23:06 file6.txt\n"
          ]
        }
      ]
    },
    {
      "cell_type": "code",
      "source": [
        "# prompt: display the files content\n",
        "\n",
        "!cat file6.txt\n"
      ],
      "metadata": {
        "colab": {
          "base_uri": "https://localhost:8080/"
        },
        "id": "kVd2cE1fSjdu",
        "outputId": "b2602cc2-7a3d-4866-b708-09b656e34ee1"
      },
      "execution_count": 19,
      "outputs": [
        {
          "output_type": "stream",
          "name": "stdout",
          "text": [
            "I love.\n",
            "programming.\n",
            "because.\n",
            "make life.\n",
            "easier.\n"
          ]
        }
      ]
    },
    {
      "cell_type": "code",
      "source": [
        "# prompt: create a copy of folder content/Activity4 in a new folder called copy and call it V2 and then delete the first one\n",
        "\n",
        "!cp -r /content/Activity4 /content/Activity4_V2\n",
        "!rm -r /content/Activity4\n"
      ],
      "metadata": {
        "id": "jHgHFvKhTG1Q"
      },
      "execution_count": 31,
      "outputs": []
    },
    {
      "cell_type": "code",
      "source": [
        "cd"
      ],
      "metadata": {
        "colab": {
          "base_uri": "https://localhost:8080/"
        },
        "id": "9dmz-hLnTszm",
        "outputId": "29426a8d-ed9d-492a-e22a-872fc6c27fa6"
      },
      "execution_count": 34,
      "outputs": [
        {
          "output_type": "stream",
          "name": "stdout",
          "text": [
            "/root\n"
          ]
        }
      ]
    },
    {
      "cell_type": "code",
      "source": [
        "ls"
      ],
      "metadata": {
        "id": "KB0bOZdkUfiU"
      },
      "execution_count": 35,
      "outputs": []
    },
    {
      "cell_type": "code",
      "source": [
        "ls -lh"
      ],
      "metadata": {
        "colab": {
          "base_uri": "https://localhost:8080/"
        },
        "id": "lTLb4q5-UtQb",
        "outputId": "a40bd201-467e-462b-cc7c-85ea2bf5402b"
      },
      "execution_count": 36,
      "outputs": [
        {
          "output_type": "stream",
          "name": "stdout",
          "text": [
            "total 0\n"
          ]
        }
      ]
    },
    {
      "cell_type": "code",
      "source": [
        "ls -la"
      ],
      "metadata": {
        "colab": {
          "base_uri": "https://localhost:8080/"
        },
        "id": "74F3w0ONUyBV",
        "outputId": "59ba7ac9-26d8-4ad7-a3d1-55eca0aa6997"
      },
      "execution_count": 37,
      "outputs": [
        {
          "output_type": "stream",
          "name": "stdout",
          "text": [
            "total 72\n",
            "drwx------ 1 root root 4096 Sep  4 22:55 \u001b[0m\u001b[01;34m.\u001b[0m/\n",
            "drwxr-xr-x 1 root root 4096 Sep  4 22:55 \u001b[01;34m..\u001b[0m/\n",
            "-r-xr-xr-x 1 root root 1169 Jan  1  2000 \u001b[01;32m.bashrc\u001b[0m*\n",
            "drwxr-xr-x 1 root root 4096 Sep  3 13:41 \u001b[01;34m.cache\u001b[0m/\n",
            "drwxr-xr-x 3 root root 4096 Sep  3 13:41 \u001b[01;34m.config\u001b[0m/\n",
            "drwxr-xr-x 1 root root 4096 Sep  3 13:41 \u001b[01;34m.ipython\u001b[0m/\n",
            "drwx------ 1 root root 4096 Sep  3 13:41 \u001b[01;34m.jupyter\u001b[0m/\n",
            "drwxr-xr-x 2 root root 4096 Sep  4 22:55 \u001b[01;34m.keras\u001b[0m/\n",
            "drwx------ 3 root root 4096 Sep  3 13:14 \u001b[01;34m.launchpadlib\u001b[0m/\n",
            "drwxr-xr-x 1 root root 4096 Sep  3 13:41 \u001b[01;34m.local\u001b[0m/\n",
            "drwxr-xr-x 4 root root 4096 Sep  3 13:41 \u001b[01;34m.npm\u001b[0m/\n",
            "-rw-r--r-- 1 root root  161 Jul  9  2019 .profile\n",
            "-r-xr-xr-x 1 root root  254 Jan  1  2000 \u001b[01;32m.tmux.conf\u001b[0m*\n",
            "-rw-r--r-- 1 root root  211 Sep  3 13:41 .wget-hsts\n"
          ]
        }
      ]
    },
    {
      "cell_type": "code",
      "source": [
        "cd content"
      ],
      "metadata": {
        "colab": {
          "base_uri": "https://localhost:8080/"
        },
        "id": "yr7CuTb9U5A8",
        "outputId": "6622e147-81bf-46c5-d32a-ba18b6ad57b0"
      },
      "execution_count": 38,
      "outputs": [
        {
          "output_type": "stream",
          "name": "stdout",
          "text": [
            "[Errno 2] No such file or directory: 'content'\n",
            "/root\n"
          ]
        }
      ]
    },
    {
      "cell_type": "code",
      "source": [
        "ls"
      ],
      "metadata": {
        "id": "LnmNfcdcU7Pd"
      },
      "execution_count": 39,
      "outputs": []
    },
    {
      "cell_type": "code",
      "source": [
        "cd /content"
      ],
      "metadata": {
        "colab": {
          "base_uri": "https://localhost:8080/"
        },
        "id": "JSBJtRc9VBAs",
        "outputId": "01a04b5d-6982-482b-ee4c-23e510c4dff0"
      },
      "execution_count": 40,
      "outputs": [
        {
          "output_type": "stream",
          "name": "stdout",
          "text": [
            "/content\n"
          ]
        }
      ]
    },
    {
      "cell_type": "code",
      "source": [
        "ls"
      ],
      "metadata": {
        "colab": {
          "base_uri": "https://localhost:8080/"
        },
        "id": "VXJOeq6FVDcl",
        "outputId": "b158bda4-dce6-4efa-a6c9-026998451b12"
      },
      "execution_count": 41,
      "outputs": [
        {
          "output_type": "stream",
          "name": "stdout",
          "text": [
            "\u001b[0m\u001b[01;34mActivity4_V2\u001b[0m/  \u001b[01;34msample_data\u001b[0m/\n"
          ]
        }
      ]
    },
    {
      "cell_type": "code",
      "source": [
        "cd Activity4_V2/"
      ],
      "metadata": {
        "colab": {
          "base_uri": "https://localhost:8080/"
        },
        "id": "FxYjV_nUVEvF",
        "outputId": "d95a4452-d63c-48e8-e8b0-6897f50e2cd6"
      },
      "execution_count": 42,
      "outputs": [
        {
          "output_type": "stream",
          "name": "stdout",
          "text": [
            "/content/Activity4_V2\n"
          ]
        }
      ]
    },
    {
      "cell_type": "code",
      "source": [
        "## DELETED THE FIRST ONE WITH THE FOLDER"
      ],
      "metadata": {
        "id": "IAAtp7VoVJ-i"
      },
      "execution_count": 49,
      "outputs": []
    },
    {
      "cell_type": "code",
      "source": [],
      "metadata": {
        "id": "GXh43Vm3WIA4"
      },
      "execution_count": null,
      "outputs": []
    }
  ]
}